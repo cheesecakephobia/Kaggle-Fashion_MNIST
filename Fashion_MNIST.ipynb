{
  "nbformat": 4,
  "nbformat_minor": 0,
  "metadata": {
    "colab": {
      "name": "Fashion_MNIST.ipynb",
      "provenance": [],
      "collapsed_sections": [],
      "mount_file_id": "1XSw5B_6dWGuVQhpUdiVVSpVafdyxDKqp",
      "authorship_tag": "ABX9TyMbwY+dXJE1KW4jqnGoDB5a",
      "include_colab_link": true
    },
    "kernelspec": {
      "name": "python3",
      "display_name": "Python 3"
    },
    "language_info": {
      "name": "python"
    }
  },
  "cells": [
    {
      "cell_type": "markdown",
      "metadata": {
        "id": "view-in-github",
        "colab_type": "text"
      },
      "source": [
        "<a href=\"https://colab.research.google.com/github/cheesecakephobia/Kaggle-Fashion_MNIST/blob/main/Fashion_MNIST.ipynb\" target=\"_parent\"><img src=\"https://colab.research.google.com/assets/colab-badge.svg\" alt=\"Open In Colab\"/></a>"
      ]
    },
    {
      "cell_type": "code",
      "metadata": {
        "id": "PVfV5bWOkofd"
      },
      "source": [
        "import numpy as np\n",
        "import matplotlib.pyplot as plt\n",
        "import pandas as pd\n",
        "from sklearn.preprocessing import StandardScaler\n",
        "from sklearn.model_selection import train_test_split\n",
        "from tensorflow.keras.models import Sequential\n",
        "from tensorflow.keras.layers import Dense, Flatten, Conv2D, MaxPooling2D, Dropout\n",
        "from tensorflow.keras.utils import to_categorical\n",
        "from sklearn.metrics import accuracy_score"
      ],
      "execution_count": null,
      "outputs": []
    },
    {
      "cell_type": "code",
      "metadata": {
        "id": "LMeRePoqmrGH"
      },
      "source": [
        "df_train = pd.read_csv('/content/drive/MyDrive/Kaggle/Fashion_MNIST/fashion-mnist_train.csv')"
      ],
      "execution_count": null,
      "outputs": []
    },
    {
      "cell_type": "code",
      "metadata": {
        "id": "ydWJAiBhlulX"
      },
      "source": [
        "X_train = df_train.drop(columns = 'label')/255\n",
        "y_train = df_train['label']"
      ],
      "execution_count": null,
      "outputs": []
    },
    {
      "cell_type": "code",
      "metadata": {
        "id": "hzKV9gwYm1Ix"
      },
      "source": [
        "df_test = pd.read_csv('/content/drive/MyDrive/Kaggle/Fashion_MNIST/fashion-mnist_test.csv')"
      ],
      "execution_count": null,
      "outputs": []
    },
    {
      "cell_type": "code",
      "metadata": {
        "id": "G6LXY-uHl41E"
      },
      "source": [
        "X_test = df_test.drop(columns = 'label')/255\n",
        "y_test = df_test['label']"
      ],
      "execution_count": null,
      "outputs": []
    },
    {
      "cell_type": "code",
      "metadata": {
        "id": "zzBACbs0zmxn"
      },
      "source": [
        "X_train, X_val, y_train, y_val = train_test_split(X_train, y_train, test_size = 0.2, random_state = 3)"
      ],
      "execution_count": null,
      "outputs": []
    },
    {
      "cell_type": "code",
      "metadata": {
        "colab": {
          "base_uri": "https://localhost:8080/"
        },
        "id": "LFv204-rnWGP",
        "outputId": "996cd154-78b0-4a0e-df2b-a33d135d34bc"
      },
      "source": [
        "X_train.shape"
      ],
      "execution_count": null,
      "outputs": [
        {
          "output_type": "execute_result",
          "data": {
            "text/plain": [
              "(48000, 784)"
            ]
          },
          "metadata": {},
          "execution_count": 169
        }
      ]
    },
    {
      "cell_type": "code",
      "metadata": {
        "colab": {
          "base_uri": "https://localhost:8080/",
          "height": 298
        },
        "id": "nCK0XUHitRQp",
        "outputId": "ba59605a-5389-4d85-a275-a3ac01cad9a9"
      },
      "source": [
        "class_names = {0: 'T-shirt/top', 1: 'Trouser', 2: 'Pullover', 3: 'Dress', 4: 'Coat', 5: 'Sandal', 6: 'Shirt', 7: 'Sneaker', 8: 'Bag', 9: 'Ankle boot'}\n",
        "plt.imshow(np.array(X_train.loc[0, :]).reshape(28,28))\n",
        "plt.title('{}'.format(class_names[y_train[0]]))"
      ],
      "execution_count": null,
      "outputs": [
        {
          "output_type": "execute_result",
          "data": {
            "text/plain": [
              "Text(0.5, 1.0, 'Pullover')"
            ]
          },
          "metadata": {},
          "execution_count": 170
        },
        {
          "output_type": "display_data",
          "data": {
            "image/png": "[encoded data removed]",
            "text/plain": [
              "<Figure size 432x288 with 1 Axes>"
            ]
          },
          "metadata": {
            "needs_background": "light"
          }
        }
      ]
    },
    {
      "cell_type": "code",
      "metadata": {
        "colab": {
          "base_uri": "https://localhost:8080/",
          "height": 298
        },
        "id": "fX4UOc4wuvDT",
        "outputId": "02c9977f-bc69-4cbd-e120-76d20bec5cae"
      },
      "source": [
        "plt.imshow(np.array(X_train.loc[8, :]).reshape(28,28))\n",
        "plt.title('{}'.format(class_names[y_train[8]]))"
      ],
      "execution_count": null,
      "outputs": [
        {
          "output_type": "execute_result",
          "data": {
            "text/plain": [
              "Text(0.5, 1.0, 'Coat')"
            ]
          },
          "metadata": {},
          "execution_count": 171
        },
        {
          "output_type": "display_data",
          "data": {
            "image/png": "[encoded data removed]",
            "text/plain": [
              "<Figure size 432x288 with 1 Axes>"
            ]
          },
          "metadata": {
            "needs_background": "light"
          }
        }
      ]
    },
    {
      "cell_type": "code",
      "metadata": {
        "id": "b5ugeAGnn4Ts"
      },
      "source": [
        "X_train = np.array(X_train).reshape(X_train.shape[0], 28, 28, 1)\n",
        "X_val = np.array(X_val).reshape(X_val.shape[0], 28, 28, 1)"
      ],
      "execution_count": null,
      "outputs": []
    },
    {
      "cell_type": "code",
      "metadata": {
        "id": "GbfKaPBkvjlC"
      },
      "source": [
        "y_train = to_categorical(y_train, num_classes= 10)\n",
        "y_val = to_categorical(y_val, num_classes= 10)"
      ],
      "execution_count": null,
      "outputs": []
    },
    {
      "cell_type": "code",
      "metadata": {
        "colab": {
          "base_uri": "https://localhost:8080/"
        },
        "id": "g9nhGoN6vvk7",
        "outputId": "a3c35e35-3f09-4eb4-e54b-80733f11d656"
      },
      "source": [
        "input_shape = X_train.shape[1:4]\n",
        "input_shape"
      ],
      "execution_count": null,
      "outputs": [
        {
          "output_type": "execute_result",
          "data": {
            "text/plain": [
              "(28, 28, 1)"
            ]
          },
          "metadata": {},
          "execution_count": 174
        }
      ]
    },
    {
      "cell_type": "code",
      "metadata": {
        "id": "0Gt77G2MwHRX"
      },
      "source": [
        "model = Sequential()\n",
        "model.add(Conv2D(filters= 30, kernel_size= 3 , activation= 'relu', input_shape = input_shape))\n",
        "model.add(MaxPooling2D(pool_size= 2))\n",
        "Dropout(.2)\n",
        "model.add(Flatten())\n",
        "model.add(Dense(10, activation= 'softmax'))"
      ],
      "execution_count": null,
      "outputs": []
    },
    {
      "cell_type": "code",
      "metadata": {
        "id": "BtLwSsZwxVBW"
      },
      "source": [
        "model.compile(loss= 'categorical_crossentropy', optimizer= 'adam', metrics= ['acc'])"
      ],
      "execution_count": null,
      "outputs": []
    },
    {
      "cell_type": "code",
      "metadata": {
        "colab": {
          "base_uri": "https://localhost:8080/"
        },
        "id": "LFtYnzw5yBWy",
        "outputId": "5b07a801-1e06-49de-ba19-5469009495cf"
      },
      "source": [
        "history = model.fit(X_train, y_train,\n",
        "                    validation_data = (X_val, y_val),\n",
        "                    batch_size = 4096,\n",
        "                    epochs = 100)"
      ],
      "execution_count": null,
      "outputs": [
        {
          "output_type": "stream",
          "text": [
            "Epoch 1/100\n",
            "12/12 [==============================] - 17s 1s/step - loss: 1.7726 - acc: 0.5136 - val_loss: 1.2012 - val_acc: 0.6842\n",
            "Epoch 2/100\n",
            "12/12 [==============================] - 16s 1s/step - loss: 0.9754 - acc: 0.7145 - val_loss: 0.7901 - val_acc: 0.7476\n",
            "Epoch 3/100\n",
            "12/12 [==============================] - 16s 1s/step - loss: 0.7296 - acc: 0.7592 - val_loss: 0.6587 - val_acc: 0.7806\n",
            "Epoch 4/100\n",
            "12/12 [==============================] - 16s 1s/step - loss: 0.6361 - acc: 0.7841 - val_loss: 0.5929 - val_acc: 0.7943\n",
            "Epoch 5/100\n",
            "12/12 [==============================] - 16s 1s/step - loss: 0.5829 - acc: 0.8000 - val_loss: 0.5529 - val_acc: 0.8057\n",
            "Epoch 6/100\n",
            "12/12 [==============================] - 16s 1s/step - loss: 0.5465 - acc: 0.8128 - val_loss: 0.5212 - val_acc: 0.8207\n",
            "Epoch 7/100\n",
            "12/12 [==============================] - 16s 1s/step - loss: 0.5180 - acc: 0.8233 - val_loss: 0.4959 - val_acc: 0.8289\n",
            "Epoch 8/100\n",
            "12/12 [==============================] - 16s 1s/step - loss: 0.4962 - acc: 0.8306 - val_loss: 0.4783 - val_acc: 0.8323\n",
            "Epoch 9/100\n",
            "12/12 [==============================] - 16s 1s/step - loss: 0.4773 - acc: 0.8370 - val_loss: 0.4627 - val_acc: 0.8377\n",
            "Epoch 10/100\n",
            "12/12 [==============================] - 16s 1s/step - loss: 0.4620 - acc: 0.8420 - val_loss: 0.4463 - val_acc: 0.8457\n",
            "Epoch 11/100\n",
            "12/12 [==============================] - 16s 1s/step - loss: 0.4481 - acc: 0.8463 - val_loss: 0.4354 - val_acc: 0.8497\n",
            "Epoch 12/100\n",
            "12/12 [==============================] - 16s 1s/step - loss: 0.4381 - acc: 0.8494 - val_loss: 0.4275 - val_acc: 0.8524\n",
            "Epoch 13/100\n",
            "12/12 [==============================] - 16s 1s/step - loss: 0.4290 - acc: 0.8521 - val_loss: 0.4185 - val_acc: 0.8547\n",
            "Epoch 14/100\n",
            "12/12 [==============================] - 16s 1s/step - loss: 0.4215 - acc: 0.8551 - val_loss: 0.4119 - val_acc: 0.8569\n",
            "Epoch 15/100\n",
            "12/12 [==============================] - 18s 1s/step - loss: 0.4143 - acc: 0.8580 - val_loss: 0.4039 - val_acc: 0.8582\n",
            "Epoch 16/100\n",
            "12/12 [==============================] - 16s 1s/step - loss: 0.4060 - acc: 0.8608 - val_loss: 0.3970 - val_acc: 0.8602\n",
            "Epoch 17/100\n",
            "12/12 [==============================] - 16s 1s/step - loss: 0.3990 - acc: 0.8632 - val_loss: 0.3910 - val_acc: 0.8635\n",
            "Epoch 18/100\n",
            "12/12 [==============================] - 16s 1s/step - loss: 0.3925 - acc: 0.8656 - val_loss: 0.3875 - val_acc: 0.8637\n",
            "Epoch 19/100\n",
            "12/12 [==============================] - 16s 1s/step - loss: 0.3872 - acc: 0.8678 - val_loss: 0.3817 - val_acc: 0.8656\n",
            "Epoch 20/100\n",
            "12/12 [==============================] - 16s 1s/step - loss: 0.3817 - acc: 0.8691 - val_loss: 0.3806 - val_acc: 0.8650\n",
            "Epoch 21/100\n",
            "12/12 [==============================] - 16s 1s/step - loss: 0.3792 - acc: 0.8699 - val_loss: 0.3750 - val_acc: 0.8701\n",
            "Epoch 22/100\n",
            "12/12 [==============================] - 16s 1s/step - loss: 0.3731 - acc: 0.8723 - val_loss: 0.3695 - val_acc: 0.8706\n",
            "Epoch 23/100\n",
            "12/12 [==============================] - 16s 1s/step - loss: 0.3689 - acc: 0.8737 - val_loss: 0.3683 - val_acc: 0.8723\n",
            "Epoch 24/100\n",
            "12/12 [==============================] - 16s 1s/step - loss: 0.3662 - acc: 0.8751 - val_loss: 0.3653 - val_acc: 0.8717\n",
            "Epoch 25/100\n",
            "12/12 [==============================] - 16s 1s/step - loss: 0.3618 - acc: 0.8759 - val_loss: 0.3621 - val_acc: 0.8751\n",
            "Epoch 26/100\n",
            "12/12 [==============================] - 16s 1s/step - loss: 0.3588 - acc: 0.8776 - val_loss: 0.3583 - val_acc: 0.8760\n",
            "Epoch 27/100\n",
            "12/12 [==============================] - 16s 1s/step - loss: 0.3544 - acc: 0.8782 - val_loss: 0.3553 - val_acc: 0.8765\n",
            "Epoch 28/100\n",
            "12/12 [==============================] - 16s 1s/step - loss: 0.3528 - acc: 0.8792 - val_loss: 0.3543 - val_acc: 0.8778\n",
            "Epoch 29/100\n",
            "12/12 [==============================] - 16s 1s/step - loss: 0.3509 - acc: 0.8795 - val_loss: 0.3550 - val_acc: 0.8779\n",
            "Epoch 30/100\n",
            "12/12 [==============================] - 16s 1s/step - loss: 0.3468 - acc: 0.8811 - val_loss: 0.3491 - val_acc: 0.8786\n",
            "Epoch 31/100\n",
            "12/12 [==============================] - 16s 1s/step - loss: 0.3440 - acc: 0.8824 - val_loss: 0.3476 - val_acc: 0.8796\n",
            "Epoch 32/100\n",
            "12/12 [==============================] - 16s 1s/step - loss: 0.3394 - acc: 0.8836 - val_loss: 0.3456 - val_acc: 0.8812\n",
            "Epoch 33/100\n",
            "12/12 [==============================] - 16s 1s/step - loss: 0.3372 - acc: 0.8848 - val_loss: 0.3440 - val_acc: 0.8808\n",
            "Epoch 34/100\n",
            "12/12 [==============================] - 16s 1s/step - loss: 0.3368 - acc: 0.8845 - val_loss: 0.3411 - val_acc: 0.8821\n",
            "Epoch 35/100\n",
            "12/12 [==============================] - 16s 1s/step - loss: 0.3326 - acc: 0.8855 - val_loss: 0.3403 - val_acc: 0.8813\n",
            "Epoch 36/100\n",
            "12/12 [==============================] - 16s 1s/step - loss: 0.3308 - acc: 0.8863 - val_loss: 0.3383 - val_acc: 0.8823\n",
            "Epoch 37/100\n",
            "12/12 [==============================] - 16s 1s/step - loss: 0.3286 - acc: 0.8880 - val_loss: 0.3360 - val_acc: 0.8833\n",
            "Epoch 38/100\n",
            "12/12 [==============================] - 16s 1s/step - loss: 0.3265 - acc: 0.8881 - val_loss: 0.3359 - val_acc: 0.8835\n",
            "Epoch 39/100\n",
            "12/12 [==============================] - 16s 1s/step - loss: 0.3256 - acc: 0.8881 - val_loss: 0.3327 - val_acc: 0.8853\n",
            "Epoch 40/100\n",
            "12/12 [==============================] - 16s 1s/step - loss: 0.3232 - acc: 0.8886 - val_loss: 0.3378 - val_acc: 0.8824\n",
            "Epoch 41/100\n",
            "12/12 [==============================] - 16s 1s/step - loss: 0.3222 - acc: 0.8892 - val_loss: 0.3313 - val_acc: 0.8857\n",
            "Epoch 42/100\n",
            "12/12 [==============================] - 16s 1s/step - loss: 0.3189 - acc: 0.8897 - val_loss: 0.3295 - val_acc: 0.8853\n",
            "Epoch 43/100\n",
            "12/12 [==============================] - 16s 1s/step - loss: 0.3167 - acc: 0.8916 - val_loss: 0.3275 - val_acc: 0.8859\n",
            "Epoch 44/100\n",
            "12/12 [==============================] - 16s 1s/step - loss: 0.3138 - acc: 0.8929 - val_loss: 0.3256 - val_acc: 0.8874\n",
            "Epoch 45/100\n",
            "12/12 [==============================] - 16s 1s/step - loss: 0.3117 - acc: 0.8929 - val_loss: 0.3255 - val_acc: 0.8873\n",
            "Epoch 46/100\n",
            "12/12 [==============================] - 16s 1s/step - loss: 0.3111 - acc: 0.8930 - val_loss: 0.3241 - val_acc: 0.8865\n",
            "Epoch 47/100\n",
            "12/12 [==============================] - 16s 1s/step - loss: 0.3104 - acc: 0.8932 - val_loss: 0.3245 - val_acc: 0.8842\n",
            "Epoch 48/100\n",
            "12/12 [==============================] - 16s 1s/step - loss: 0.3090 - acc: 0.8932 - val_loss: 0.3237 - val_acc: 0.8865\n",
            "Epoch 49/100\n",
            "12/12 [==============================] - 16s 1s/step - loss: 0.3054 - acc: 0.8954 - val_loss: 0.3212 - val_acc: 0.8880\n",
            "Epoch 50/100\n",
            "12/12 [==============================] - 16s 1s/step - loss: 0.3039 - acc: 0.8954 - val_loss: 0.3211 - val_acc: 0.8862\n",
            "Epoch 51/100\n",
            "12/12 [==============================] - 16s 1s/step - loss: 0.3033 - acc: 0.8952 - val_loss: 0.3233 - val_acc: 0.8874\n",
            "Epoch 52/100\n",
            "12/12 [==============================] - 16s 1s/step - loss: 0.3025 - acc: 0.8957 - val_loss: 0.3201 - val_acc: 0.8882\n",
            "Epoch 53/100\n",
            "12/12 [==============================] - 18s 2s/step - loss: 0.3001 - acc: 0.8958 - val_loss: 0.3187 - val_acc: 0.8881\n",
            "Epoch 54/100\n",
            "12/12 [==============================] - 16s 1s/step - loss: 0.2996 - acc: 0.8967 - val_loss: 0.3203 - val_acc: 0.8876\n",
            "Epoch 55/100\n",
            "12/12 [==============================] - 16s 1s/step - loss: 0.2974 - acc: 0.8975 - val_loss: 0.3156 - val_acc: 0.8895\n",
            "Epoch 56/100\n",
            "12/12 [==============================] - 16s 1s/step - loss: 0.2946 - acc: 0.8989 - val_loss: 0.3136 - val_acc: 0.8908\n",
            "Epoch 57/100\n",
            "12/12 [==============================] - 16s 1s/step - loss: 0.2933 - acc: 0.8989 - val_loss: 0.3162 - val_acc: 0.8886\n",
            "Epoch 58/100\n",
            "12/12 [==============================] - 16s 1s/step - loss: 0.2945 - acc: 0.8981 - val_loss: 0.3221 - val_acc: 0.8857\n",
            "Epoch 59/100\n",
            "12/12 [==============================] - 16s 1s/step - loss: 0.2932 - acc: 0.8983 - val_loss: 0.3117 - val_acc: 0.8903\n",
            "Epoch 60/100\n",
            "12/12 [==============================] - 16s 1s/step - loss: 0.2899 - acc: 0.9003 - val_loss: 0.3119 - val_acc: 0.8902\n",
            "Epoch 61/100\n",
            "12/12 [==============================] - 16s 1s/step - loss: 0.2901 - acc: 0.8993 - val_loss: 0.3098 - val_acc: 0.8927\n",
            "Epoch 62/100\n",
            "12/12 [==============================] - 16s 1s/step - loss: 0.2879 - acc: 0.9004 - val_loss: 0.3085 - val_acc: 0.8917\n",
            "Epoch 63/100\n",
            "12/12 [==============================] - 16s 1s/step - loss: 0.2864 - acc: 0.9008 - val_loss: 0.3092 - val_acc: 0.8916\n",
            "Epoch 64/100\n",
            "12/12 [==============================] - 16s 1s/step - loss: 0.2858 - acc: 0.9020 - val_loss: 0.3105 - val_acc: 0.8906\n",
            "Epoch 65/100\n",
            "12/12 [==============================] - 16s 1s/step - loss: 0.2851 - acc: 0.9017 - val_loss: 0.3090 - val_acc: 0.8917\n",
            "Epoch 66/100\n",
            "12/12 [==============================] - 16s 1s/step - loss: 0.2840 - acc: 0.9013 - val_loss: 0.3086 - val_acc: 0.8905\n",
            "Epoch 67/100\n",
            "12/12 [==============================] - 16s 1s/step - loss: 0.2822 - acc: 0.9020 - val_loss: 0.3075 - val_acc: 0.8925\n",
            "Epoch 68/100\n",
            "12/12 [==============================] - 16s 1s/step - loss: 0.2798 - acc: 0.9033 - val_loss: 0.3046 - val_acc: 0.8938\n",
            "Epoch 69/100\n",
            "12/12 [==============================] - 16s 1s/step - loss: 0.2787 - acc: 0.9040 - val_loss: 0.3047 - val_acc: 0.8947\n",
            "Epoch 70/100\n",
            "12/12 [==============================] - 16s 1s/step - loss: 0.2776 - acc: 0.9040 - val_loss: 0.3048 - val_acc: 0.8947\n",
            "Epoch 71/100\n",
            "12/12 [==============================] - 16s 1s/step - loss: 0.2777 - acc: 0.9040 - val_loss: 0.3077 - val_acc: 0.8916\n",
            "Epoch 72/100\n",
            "12/12 [==============================] - 16s 1s/step - loss: 0.2769 - acc: 0.9050 - val_loss: 0.3035 - val_acc: 0.8954\n",
            "Epoch 73/100\n",
            "12/12 [==============================] - 16s 1s/step - loss: 0.2763 - acc: 0.9040 - val_loss: 0.3065 - val_acc: 0.8935\n",
            "Epoch 74/100\n",
            "12/12 [==============================] - 16s 1s/step - loss: 0.2755 - acc: 0.9049 - val_loss: 0.3012 - val_acc: 0.8963\n",
            "Epoch 75/100\n",
            "12/12 [==============================] - 16s 1s/step - loss: 0.2733 - acc: 0.9047 - val_loss: 0.3017 - val_acc: 0.8964\n",
            "Epoch 76/100\n",
            "12/12 [==============================] - 16s 1s/step - loss: 0.2737 - acc: 0.9053 - val_loss: 0.3062 - val_acc: 0.8940\n",
            "Epoch 77/100\n",
            "12/12 [==============================] - 16s 1s/step - loss: 0.2719 - acc: 0.9061 - val_loss: 0.2998 - val_acc: 0.8961\n",
            "Epoch 78/100\n",
            "12/12 [==============================] - 16s 1s/step - loss: 0.2697 - acc: 0.9066 - val_loss: 0.3006 - val_acc: 0.8943\n",
            "Epoch 79/100\n",
            "12/12 [==============================] - 16s 1s/step - loss: 0.2704 - acc: 0.9060 - val_loss: 0.3003 - val_acc: 0.8946\n",
            "Epoch 80/100\n",
            "12/12 [==============================] - 16s 1s/step - loss: 0.2686 - acc: 0.9066 - val_loss: 0.3005 - val_acc: 0.8944\n",
            "Epoch 81/100\n",
            "12/12 [==============================] - 16s 1s/step - loss: 0.2685 - acc: 0.9068 - val_loss: 0.2979 - val_acc: 0.8952\n",
            "Epoch 82/100\n",
            "12/12 [==============================] - 16s 1s/step - loss: 0.2665 - acc: 0.9077 - val_loss: 0.2996 - val_acc: 0.8965\n",
            "Epoch 83/100\n",
            "12/12 [==============================] - 16s 1s/step - loss: 0.2652 - acc: 0.9082 - val_loss: 0.2973 - val_acc: 0.8969\n",
            "Epoch 84/100\n",
            "12/12 [==============================] - 16s 1s/step - loss: 0.2643 - acc: 0.9085 - val_loss: 0.2978 - val_acc: 0.8965\n",
            "Epoch 85/100\n",
            "12/12 [==============================] - 16s 1s/step - loss: 0.2628 - acc: 0.9095 - val_loss: 0.2961 - val_acc: 0.8957\n",
            "Epoch 86/100\n",
            "12/12 [==============================] - 16s 1s/step - loss: 0.2623 - acc: 0.9092 - val_loss: 0.2957 - val_acc: 0.8954\n",
            "Epoch 87/100\n",
            "12/12 [==============================] - 16s 1s/step - loss: 0.2632 - acc: 0.9085 - val_loss: 0.2943 - val_acc: 0.8964\n",
            "Epoch 88/100\n",
            "12/12 [==============================] - 16s 1s/step - loss: 0.2598 - acc: 0.9099 - val_loss: 0.2939 - val_acc: 0.8964\n",
            "Epoch 89/100\n",
            "12/12 [==============================] - 16s 1s/step - loss: 0.2591 - acc: 0.9108 - val_loss: 0.2934 - val_acc: 0.8977\n",
            "Epoch 90/100\n",
            "12/12 [==============================] - 16s 1s/step - loss: 0.2583 - acc: 0.9110 - val_loss: 0.2927 - val_acc: 0.8974\n",
            "Epoch 91/100\n",
            "12/12 [==============================] - 16s 1s/step - loss: 0.2580 - acc: 0.9111 - val_loss: 0.2933 - val_acc: 0.8974\n",
            "Epoch 92/100\n",
            "12/12 [==============================] - 16s 1s/step - loss: 0.2568 - acc: 0.9114 - val_loss: 0.2922 - val_acc: 0.8964\n",
            "Epoch 93/100\n",
            "12/12 [==============================] - 16s 1s/step - loss: 0.2569 - acc: 0.9114 - val_loss: 0.2924 - val_acc: 0.8977\n",
            "Epoch 94/100\n",
            "12/12 [==============================] - 16s 1s/step - loss: 0.2557 - acc: 0.9119 - val_loss: 0.2923 - val_acc: 0.8974\n",
            "Epoch 95/100\n",
            "12/12 [==============================] - 16s 1s/step - loss: 0.2539 - acc: 0.9131 - val_loss: 0.2917 - val_acc: 0.8975\n",
            "Epoch 96/100\n",
            "12/12 [==============================] - 16s 1s/step - loss: 0.2527 - acc: 0.9130 - val_loss: 0.2912 - val_acc: 0.8978\n",
            "Epoch 97/100\n",
            "12/12 [==============================] - 16s 1s/step - loss: 0.2535 - acc: 0.9136 - val_loss: 0.2905 - val_acc: 0.8985\n",
            "Epoch 98/100\n",
            "12/12 [==============================] - 16s 1s/step - loss: 0.2518 - acc: 0.9134 - val_loss: 0.2917 - val_acc: 0.8959\n",
            "Epoch 99/100\n",
            "12/12 [==============================] - 16s 1s/step - loss: 0.2517 - acc: 0.9138 - val_loss: 0.2919 - val_acc: 0.8957\n",
            "Epoch 100/100\n",
            "12/12 [==============================] - 16s 1s/step - loss: 0.2499 - acc: 0.9135 - val_loss: 0.2892 - val_acc: 0.8988\n"
          ],
          "name": "stdout"
        }
      ]
    },
    {
      "cell_type": "code",
      "metadata": {
        "colab": {
          "base_uri": "https://localhost:8080/",
          "height": 265
        },
        "id": "3-RhbnbbAfQF",
        "outputId": "02094cdb-0011-4f81-d6e6-b6c1406da448"
      },
      "source": [
        "plt.plot(history.history['loss'], label='Train loss')\n",
        "plt.plot(history.history['val_loss'], label='Test Loss')\n",
        "plt.legend();"
      ],
      "execution_count": null,
      "outputs": [
        {
          "output_type": "display_data",
          "data": {
            "image/png": "[encoded data removed]",
            "text/plain": [
              "<Figure size 432x288 with 1 Axes>"
            ]
          },
          "metadata": {
            "needs_background": "light"
          }
        }
      ]
    },
    {
      "cell_type": "code",
      "metadata": {
        "colab": {
          "base_uri": "https://localhost:8080/",
          "height": 265
        },
        "id": "EdF9OtvmAiSF",
        "outputId": "c776ea57-81d2-448e-da69-64cdcd1a3e64"
      },
      "source": [
        "plt.plot(history.history['acc'], label='Train Accuracy')\n",
        "plt.plot(history.history['val_acc'], label='Test Accuracy')\n",
        "plt.legend();"
      ],
      "execution_count": null,
      "outputs": [
        {
          "output_type": "display_data",
          "data": {
            "image/png": "[encoded data removed]",
            "text/plain": [
              "<Figure size 432x288 with 1 Axes>"
            ]
          },
          "metadata": {
            "needs_background": "light"
          }
        }
      ]
    },
    {
      "cell_type": "code",
      "metadata": {
        "id": "GZ1y08-pAlD4"
      },
      "source": [
        "X_test = np.array(X_test).reshape(X_test.shape[0], 28, 28, 1)\n",
        "preds = np.argmax(model.predict(X_test), axis=-1)"
      ],
      "execution_count": null,
      "outputs": []
    },
    {
      "cell_type": "code",
      "metadata": {
        "colab": {
          "base_uri": "https://localhost:8080/"
        },
        "id": "lYXzbpfiAoq4",
        "outputId": "334c1ed2-9081-4656-e5a9-4c0f245023b8"
      },
      "source": [
        "accuracy_score(y_test, preds)"
      ],
      "execution_count": null,
      "outputs": [
        {
          "output_type": "execute_result",
          "data": {
            "text/plain": [
              "0.903"
            ]
          },
          "metadata": {},
          "execution_count": 181
        }
      ]
    }
  ]
}